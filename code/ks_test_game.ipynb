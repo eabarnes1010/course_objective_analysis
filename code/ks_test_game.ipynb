{
 "cells": [
  {
   "cell_type": "markdown",
   "metadata": {
    "id": "Qku0vj8pKpeB"
   },
   "source": [
    "# Kolmogorov-Smirnov Test (KS-Test) Game\n",
    "[![Latest release](https://badgen.net/github/release/Naereen/Strapdown.js)](https://github.com/eabarnes1010/course_objective_analysis/tree/main/code)\n",
    "[![Open In Colab](https://colab.research.google.com/assets/colab-badge.svg)](https://colab.research.google.com/github/eabarnes1010/course_objective_analysis/blob/main/code/ks_test_game.ipynb)\n",
    "\n",
    "How good are you at comparing distributions with small sample sizes? How good is the KS-Test?"
   ]
  },
  {
   "cell_type": "code",
   "execution_count": 1,
   "metadata": {
    "id": "K5PfM0ViKpeC",
    "jupyter": {
     "source_hidden": true
    }
   },
   "outputs": [],
   "source": [
    "#.............................................\n",
    "# IMPORT STATEMENTS\n",
    "#.............................................\n",
    "import numpy as np\n",
    "import matplotlib.pyplot as plt\n",
    "import importlib\n",
    "import scipy.stats as stats\n",
    "import seaborn as sns\n",
    "\n",
    "#.............................................\n",
    "# PLOTTING COMMANDS \n",
    "#.............................................\n",
    "import matplotlib as mpl\n",
    "# set figure defaults\n",
    "mpl.rcParams['figure.dpi'] = 100\n",
    "plt.rcParams['figure.figsize'] = (12.0/2, 8.0/2)\n",
    "\n",
    "# np.random.seed(99)\n",
    "game_round = 0"
   ]
  },
  {
   "cell_type": "code",
   "execution_count": 14,
   "metadata": {
    "id": "pe-IGlXeKpeD",
    "jupyter": {
     "source_hidden": true
    }
   },
   "outputs": [],
   "source": [
    "N = 30\n",
    "\n",
    "def grab_secret_data(i_type=None):\n",
    "    \n",
    "    global game_round\n",
    "    game_round = game_round + 1 # counter to keep track of how many rounds you have played\n",
    "    \n",
    "    if i_type is None:\n",
    "        i_type = np.random.randint(0,8,size=None)\n",
    "\n",
    "    if i_type==0 or i_type==1:\n",
    "        params = [0,1]\n",
    "        data = np.random.normal(params[0],params[1],size=(N,))\n",
    "        dist_type = '** standard normal distribution **'\n",
    "    elif i_type==2:\n",
    "        params = [np.random.uniform(-3,0),]\n",
    "        params = np.append(params,-params[0])\n",
    "        data = np.random.uniform(params[0],params[1],size=(N,))\n",
    "        dist_type = 'uniform distribution'        \n",
    "    elif i_type==3:\n",
    "        params = [np.random.randint(-2,2),np.abs(np.random.normal(0,3))]\n",
    "        data = np.random.lognormal(params[0],params[1],size=(N,))        \n",
    "        dist_type = 'lognormal distribution'                \n",
    "    elif i_type==4:\n",
    "        params = [np.random.randint(10,20),np.random.randint(10,20)]\n",
    "        data = np.random.f(params[0],params[1],size = (N,))\n",
    "        data = data - np.mean(data)\n",
    "        dist_type = 'f distribution'     \n",
    "    else:\n",
    "        params = [np.random.uniform(-.25,.25), 1.]\n",
    "        data = np.random.normal(params[0],params[1],size = (N,))\n",
    "        dist_type = 'non-standard normal distribution'     \n",
    "        \n",
    "    return data, dist_type, params"
   ]
  },
  {
   "cell_type": "markdown",
   "metadata": {
    "id": "sqSw_h-lKpeE"
   },
   "source": [
    "# Start the game"
   ]
  },
  {
   "cell_type": "markdown",
   "metadata": {
    "id": "f-FEnbc6KpeE"
   },
   "source": [
    "For this game, the computer will grab a random sample data set and you need to try and decide whether the sample data came from a standard normal distribution. You will make your decision in two ways:\n",
    "* look at the distribution and guess\n",
    "* use the kolmogorov-smirnov test by analyzing the p-value of the maximum difference of a standard normal CDF and the CDF of the sample data\n",
    "\n",
    "To play the game:\n",
    "* Step 1: run CELL A below \n",
    "* Step 2: decide whether the data came from a standard normal (yes or no)\n",
    "* Step 3: run CELL B below\n",
    "* Step 4: look at the resulting statistics/p-value and update your answer accordingly (up to you how you do this)\n",
    "* Step 5: run CELL C\n",
    "* Step 6: did the sample data come from a standard normal? make a note of whether you got it right or not.\n",
    "* Step 7: repeat steps 1-6"
   ]
  },
  {
   "cell_type": "code",
   "execution_count": 24,
   "metadata": {
    "id": "yXV30PsWKpeE"
   },
   "outputs": [
    {
     "data": {
      "text/plain": "<Figure size 600x400 with 1 Axes>",
      "image/png": "[encoded data removed]"
     },
     "metadata": {},
     "output_type": "display_data"
    }
   ],
   "source": [
    "# CELL A\n",
    "#-----------------\n",
    "data, dist_type, params = grab_secret_data()\n",
    "\n",
    "plt.figure()\n",
    "sns.histplot(data, binwidth=.25)\n",
    "plt.title('Game Round = #' + str(game_round) + '\\nN=' + str(N) + ' sample data')\n",
    "plt.xlim(-5,5)\n",
    "plt.show()"
   ]
  },
  {
   "cell_type": "code",
   "execution_count": 25,
   "metadata": {
    "id": "PY3hleJ-KpeF"
   },
   "outputs": [
    {
     "name": "stdout",
     "output_type": "stream",
     "text": [
      "KS-TEST METRICS:\n",
      "Maximum difference in CDFs = 0.254\n",
      "KS-test p-value = 0.034317\n",
      "KS Prediction: NOT standard normal\n",
      "\n",
      "MYSTERY REVEALED:\n",
      "distribution: f distribution\n",
      "parameters  : [15 19]\n",
      "\n"
     ]
    }
   ],
   "source": [
    "# CELL B\n",
    "#-----------------\n",
    "# use KS-test to compare our data sample with a TRUE normal\n",
    "# https://docs.scipy.org/doc/scipy/reference/generated/scipy.stats.kstest.html\n",
    "\n",
    "D, p = stats.kstest(data,'norm')\n",
    "if p < 0.05:\n",
    "    ks_prediction = \"NOT standard normal\"\n",
    "else:\n",
    "    ks_prediction = \"** standard normal **\"\n",
    "print('KS-TEST METRICS:\\nMaximum difference in CDFs = ' + str(np.round(D,3)) + '\\nKS-test p-value = ' + str(np.round(p,6)) + '\\nKS Prediction: ' + ks_prediction + '\\n')\n",
    "\n",
    "#-----------------\n",
    "# print the results/right answer\n",
    "print('MYSTERY REVEALED:\\ndistribution: ' + dist_type + '\\nparameters  : ' + str(np.round(params,4)) + '\\n')"
   ]
  },
  {
   "cell_type": "code",
   "execution_count": 5,
   "metadata": {
    "id": "U1UWPqUFK_Gz"
   },
   "outputs": [],
   "source": []
  }
 ],
 "metadata": {
  "colab": {
   "collapsed_sections": [],
   "name": "ks_test-game.ipynb",
   "provenance": []
  },
  "kernelspec": {
   "display_name": "Python 3 (ipykernel)",
   "language": "python",
   "name": "python3"
  },
  "language_info": {
   "codemirror_mode": {
    "name": "ipython",
    "version": 3
   },
   "file_extension": ".py",
   "mimetype": "text/x-python",
   "name": "python",
   "nbconvert_exporter": "python",
   "pygments_lexer": "ipython3",
   "version": "3.7.11"
  }
 },
 "nbformat": 4,
 "nbformat_minor": 4
}
