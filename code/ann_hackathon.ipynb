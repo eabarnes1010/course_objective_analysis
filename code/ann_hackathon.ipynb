{
 "cells": [
  {
   "cell_type": "markdown",
   "metadata": {
    "id": "YNYOWfvEbWzO"
   },
   "source": [
    "# ANN Hackathon\n",
    "## Feed-forward neural network using ozone data at Joshua Tree\n",
    "[![Latest release](https://badgen.net/github/release/Naereen/Strapdown.js)](https://github.com/eabarnes1010/course_objective_analysis/tree/main/code)\n",
    "[![Open In Colab](https://colab.research.google.com/assets/colab-badge.svg)](https://colab.research.google.com/github/eabarnes1010/course_objective_analysis/blob/main/code/ann_ozone_joshuatree.ipynb)\n",
    "\n",
    "* Modified for ATS 655 Spring 2022 at Colorado State University led by Prof. Elizabeth Barnes\n",
    "* Originally created by TA Jamin Rader [CSU] for ATS 780A7 Spring 2022 at Colorado State University led by Prof. Elizabeth Barnes"
   ]
  },
  {
   "cell_type": "markdown",
   "metadata": {
    "id": "8sVKVYstVW_p"
   },
   "source": [
    "# 0. Set Up Environments"
   ]
  },
  {
   "cell_type": "code",
   "execution_count": null,
   "metadata": {
    "colab": {
     "base_uri": "https://localhost:8080/"
    },
    "executionInfo": {
     "elapsed": 34,
     "status": "ok",
     "timestamp": 1646243894542,
     "user": {
      "displayName": "Elizabeth Barnes",
      "photoUrl": "https://lh3.googleusercontent.com/a-/AOh14GiNPVVIWP6XAkP_hwu-8rAxoeeNuk2BMkX5-yuA=s64",
      "userId": "07585723222468022011"
     },
     "user_tz": 420
    },
    "id": "3ADJn5sDvJAU",
    "outputId": "67c1e407-6999-4fc1-97ea-cbde56593352"
   },
   "outputs": [],
   "source": [
    "try:\n",
    "    import google.colab\n",
    "    IN_COLAB = True\n",
    "except:\n",
    "    IN_COLAB = False\n",
    "print('IN_COLAB = ' + str(IN_COLAB))"
   ]
  },
  {
   "cell_type": "code",
   "execution_count": null,
   "metadata": {
    "colab": {
     "base_uri": "https://localhost:8080/"
    },
    "executionInfo": {
     "elapsed": 5519,
     "status": "ok",
     "timestamp": 1646243900028,
     "user": {
      "displayName": "Elizabeth Barnes",
      "photoUrl": "https://lh3.googleusercontent.com/a-/AOh14GiNPVVIWP6XAkP_hwu-8rAxoeeNuk2BMkX5-yuA=s64",
      "userId": "07585723222468022011"
     },
     "user_tz": 420
    },
    "id": "xWEMpofqvMuN",
    "outputId": "94a2d758-d433-4c6c-8d43-010393858be8"
   },
   "outputs": [],
   "source": [
    "import sys\n",
    "import numpy as np\n",
    "import seaborn as sb\n",
    "\n",
    "import pandas as pd\n",
    "import datetime\n",
    "import tensorflow as tf\n",
    "#import tensorflow.keras as keras\n",
    "import sklearn\n",
    "#import pydot\n",
    "import matplotlib.pyplot as plt\n",
    "import matplotlib.patches as patches\n",
    "# %matplotlib inline\n",
    "\n",
    "tf.compat.v1.disable_v2_behavior()"
   ]
  },
  {
   "cell_type": "code",
   "execution_count": null,
   "metadata": {
    "colab": {
     "base_uri": "https://localhost:8080/"
    },
    "executionInfo": {
     "elapsed": 43,
     "status": "ok",
     "timestamp": 1646243900029,
     "user": {
      "displayName": "Elizabeth Barnes",
      "photoUrl": "https://lh3.googleusercontent.com/a-/AOh14GiNPVVIWP6XAkP_hwu-8rAxoeeNuk2BMkX5-yuA=s64",
      "userId": "07585723222468022011"
     },
     "user_tz": 420
    },
    "id": "uQ8qXrMovQFj",
    "outputId": "c7caf192-17af-42df-e577-0e925034bde4"
   },
   "outputs": [],
   "source": [
    "print(f\"python version = {sys.version}\")\n",
    "print(f\"numpy version = {np.__version__}\")\n",
    "print(f\"tensorflow version = {tf.__version__}\")  "
   ]
  },
  {
   "cell_type": "code",
   "execution_count": null,
   "metadata": {
    "executionInfo": {
     "elapsed": 1836,
     "status": "ok",
     "timestamp": 1646243901824,
     "user": {
      "displayName": "Elizabeth Barnes",
      "photoUrl": "https://lh3.googleusercontent.com/a-/AOh14GiNPVVIWP6XAkP_hwu-8rAxoeeNuk2BMkX5-yuA=s64",
      "userId": "07585723222468022011"
     },
     "user_tz": 420
    },
    "id": "n-3QsgoIvSOr"
   },
   "outputs": [],
   "source": [
    "if(IN_COLAB==True):\n",
    "    try:\n",
    "        from google.colab import drive\n",
    "        drive.mount('/content/drive', force_remount=True)\n",
    "        local_path = '/content/drive/My Drive/Colab Notebooks/'\n",
    "    except:\n",
    "        local_path = './'\n",
    "else:\n",
    "    local_path = '../figures/'"
   ]
  },
  {
   "cell_type": "markdown",
   "metadata": {
    "id": "xYzCs4hS0ShZ"
   },
   "source": [
    "# 1. Data Preparation"
   ]
  },
  {
   "cell_type": "markdown",
   "metadata": {
    "id": "Ts-S49oV0In4"
   },
   "source": [
    "### 1.1 Data Overview"
   ]
  },
  {
   "cell_type": "markdown",
   "metadata": {
    "id": "sCosPTs30iFf"
   },
   "source": [
    "This is ozone and meteorlogical data from [CASTNET](https://www.epa.gov/castnet) (Clean Air Status and Trends Network) for Joshua Tree National Park, located just outside of Palm Springs and about 100 miles east of Los Angeles. The National Park Service monitors ozone in their parks. Joshua Tree has recorded at least 30 exceedance days per year [since 2016](https://www.nps.gov/subjects/air/ozone-exceed.htm). An exceedance day occurs when the daily maximum 8-hour ozone average is 71 ppb or higher. For comparison, Rocky Mountain NP has only experienced 35 ozone exceedance days since 2016.\n",
    "\n",
    "\n",
    "\n"
   ]
  },
  {
   "cell_type": "code",
   "execution_count": null,
   "metadata": {
    "executionInfo": {
     "elapsed": 25100,
     "status": "ok",
     "timestamp": 1646243926891,
     "user": {
      "displayName": "Elizabeth Barnes",
      "photoUrl": "https://lh3.googleusercontent.com/a-/AOh14GiNPVVIWP6XAkP_hwu-8rAxoeeNuk2BMkX5-yuA=s64",
      "userId": "07585723222468022011"
     },
     "user_tz": 420
    },
    "id": "vrDpNnArxE5V"
   },
   "outputs": [],
   "source": [
    "# Read in data from url\n",
    "url = \"https://raw.githubusercontent.com/eabarnes1010/course_ml_ats/main/data/ozone_data_joshuatreenp.csv\"\n",
    "data = pd.read_csv(url,parse_dates=[\"DATE_TIME\"],infer_datetime_format=True)\n",
    "\n",
    "# Fix data issue with Daylight Savings Time\n",
    "duplicate_dates = data['DATE_TIME'][data.duplicated('DATE_TIME')]\n",
    "for dup_date in duplicate_dates:\n",
    "  idx = data['DATE_TIME'].eq(dup_date).idxmax()\n",
    "  data.at[idx, 'DATE_TIME'] = dup_date - pd.Timedelta(value=1, unit='hours')  \n",
    "\n",
    "# Add hour and day of year\n",
    "data['HOUR'] = data['DATE_TIME'].dt.hour\n",
    "data['MONTH'] = data['DATE_TIME'].dt.month\n",
    "data['YEAR'] = data['DATE_TIME'].dt.year\n",
    "data['DAYOFYEAR'] = data['DATE_TIME'].dt.dayofyear\n",
    "data.sort_values('DATE_TIME', inplace=True, ignore_index = True)"
   ]
  },
  {
   "cell_type": "markdown",
   "metadata": {
    "id": "UfcWmi6-odBK"
   },
   "source": [
    "Let's take a look at the data. We have data for ozone, temperature, relative humidity, and wind direction, among others."
   ]
  },
  {
   "cell_type": "code",
   "execution_count": null,
   "metadata": {
    "colab": {
     "base_uri": "https://localhost:8080/",
     "height": 0
    },
    "executionInfo": {
     "elapsed": 72,
     "status": "ok",
     "timestamp": 1646243926925,
     "user": {
      "displayName": "Elizabeth Barnes",
      "photoUrl": "https://lh3.googleusercontent.com/a-/AOh14GiNPVVIWP6XAkP_hwu-8rAxoeeNuk2BMkX5-yuA=s64",
      "userId": "07585723222468022011"
     },
     "user_tz": 420
    },
    "id": "a7gFEvuuCQo_",
    "outputId": "d62493b0-f293-4077-c6ab-179cdcca8119"
   },
   "outputs": [],
   "source": [
    "display(data.head())"
   ]
  },
  {
   "cell_type": "markdown",
   "metadata": {
    "id": "fcts6nWEo1bZ"
   },
   "source": [
    "### 1.2 Define Input and Output"
   ]
  },
  {
   "cell_type": "markdown",
   "metadata": {
    "id": "VCegAFcPrvKZ"
   },
   "source": [
    "The 2015 benchmark for [human health ozone condition](https://www.nps.gov/articles/analysis-methods2020.htm) is shown here. Let us predict whether the ozone quality will be classified as good, fair, or poor over 8-hour periods.\n",
    "\n",
    "**Good**   $\\leq$ 54.9 ppb\n",
    "\n",
    "**Fair**   55.0 - 70.9 ppb\n",
    "\n",
    "**Poor**   $\\geq$ 71.0 ppb\n",
    "\n",
    "Let's start out by training our model using Temperature, Relative Humidity, Windspeed, and Day of Year."
   ]
  },
  {
   "cell_type": "code",
   "execution_count": null,
   "metadata": {
    "colab": {
     "base_uri": "https://localhost:8080/"
    },
    "executionInfo": {
     "elapsed": 71,
     "status": "ok",
     "timestamp": 1646243926926,
     "user": {
      "displayName": "Elizabeth Barnes",
      "photoUrl": "https://lh3.googleusercontent.com/a-/AOh14GiNPVVIWP6XAkP_hwu-8rAxoeeNuk2BMkX5-yuA=s64",
      "userId": "07585723222468022011"
     },
     "user_tz": 420
    },
    "id": "zraOwSRgsf6f",
    "outputId": "cd8973ce-1372-4e86-b0b7-57588fc892de"
   },
   "outputs": [],
   "source": [
    "# Here are all the different variables that we could use for training our neural\n",
    "# nework (except ozone, of course)\n",
    "data.columns"
   ]
  },
  {
   "cell_type": "code",
   "execution_count": null,
   "metadata": {
    "executionInfo": {
     "elapsed": 69,
     "status": "ok",
     "timestamp": 1646243926927,
     "user": {
      "displayName": "Elizabeth Barnes",
      "photoUrl": "https://lh3.googleusercontent.com/a-/AOh14GiNPVVIWP6XAkP_hwu-8rAxoeeNuk2BMkX5-yuA=s64",
      "userId": "07585723222468022011"
     },
     "user_tz": 420
    },
    "id": "hMoAfkADsSFo"
   },
   "outputs": [],
   "source": [
    "# MODIFY: input variables (if you choose to use wind direction, you must first convert it to a vector for averaging.)\n",
    "# List of strings from the available column names in the data set\n",
    "INPUT_VARIABLES = ['TEMPERATURE', 'RELATIVE_HUMIDITY', \n",
    "                   'WINDSPEED',]"
   ]
  },
  {
   "cell_type": "code",
   "execution_count": null,
   "metadata": {
    "colab": {
     "base_uri": "https://localhost:8080/",
     "height": 0
    },
    "executionInfo": {
     "elapsed": 263,
     "status": "ok",
     "timestamp": 1646243927121,
     "user": {
      "displayName": "Elizabeth Barnes",
      "photoUrl": "https://lh3.googleusercontent.com/a-/AOh14GiNPVVIWP6XAkP_hwu-8rAxoeeNuk2BMkX5-yuA=s64",
      "userId": "07585723222468022011"
     },
     "user_tz": 420
    },
    "id": "u9LjpXXgC3zd",
    "outputId": "43d1b5af-326c-4ea2-9803-9a0a56fcf333"
   },
   "outputs": [],
   "source": [
    "# Let's isolate our variables of interest and take the 8-hour running mean\n",
    "\n",
    "# First using input and output variables together to take running mean\n",
    "df_data_to_be_used = data[['OZONE'] + INPUT_VARIABLES] \n",
    "\n",
    "# Here we take the 8-hour rolling mean (note: DATE_TIME does not work)\n",
    "df_data_to_be_used = df_data_to_be_used.rolling(8).mean()\n",
    "\n",
    "# Now adding Date and Time components\n",
    "df_data_to_be_used[['DATE_TIME', 'HOUR', 'MONTH', 'YEAR']] = \\\n",
    "    data[['DATE_TIME', 'HOUR', 'MONTH', 'YEAR']] \n",
    "\n",
    "# Dropping NaNs\n",
    "df_data_to_be_used.dropna(inplace=True)\n",
    "\n",
    "display(df_data_to_be_used.head())"
   ]
  },
  {
   "cell_type": "code",
   "execution_count": null,
   "metadata": {
    "colab": {
     "base_uri": "https://localhost:8080/"
    },
    "executionInfo": {
     "elapsed": 68,
     "status": "ok",
     "timestamp": 1646243927121,
     "user": {
      "displayName": "Elizabeth Barnes",
      "photoUrl": "https://lh3.googleusercontent.com/a-/AOh14GiNPVVIWP6XAkP_hwu-8rAxoeeNuk2BMkX5-yuA=s64",
      "userId": "07585723222468022011"
     },
     "user_tz": 420
    },
    "id": "PcO80t7pJKgw",
    "outputId": "28c79744-b4f9-4a6a-b5f8-39ec6a0c4bb2"
   },
   "outputs": [],
   "source": [
    "# Creating a numpy array for our inputs and outputs\n",
    "input = df_data_to_be_used[INPUT_VARIABLES].values\n",
    "output_raw = df_data_to_be_used['OZONE'].values\n",
    "\n",
    "# Creating numpy arrays for time/date info for visualizations\n",
    "hour = df_data_to_be_used['HOUR'].values\n",
    "month = df_data_to_be_used['MONTH'].values\n",
    "year = df_data_to_be_used['YEAR'].values\n",
    "\n",
    "# Turning ozone into classification problem:\n",
    "  # Class 0: Good, Class 1: Fair, Class 2: Poor\n",
    "output_class = (output_raw >= 55).astype(int) + (output_raw >= 71).astype(int)\n",
    "output = (output_class.reshape(-1,1) == np.unique(output_class)).astype(int)\n",
    "\n",
    "# Here is how our data is encoded into classes.\n",
    "print('Ozone Value:', output_raw[0])\n",
    "print('Ozone Class:', output_class[0])\n",
    "print('Encoded As:', output[0])\n",
    "print()\n",
    "print('Ozone Value:', output_raw[2000])\n",
    "print('Ozone Class:', output_class[2000])\n",
    "print('Encoded As:', output[2000])"
   ]
  },
  {
   "cell_type": "code",
   "execution_count": null,
   "metadata": {
    "colab": {
     "base_uri": "https://localhost:8080/"
    },
    "executionInfo": {
     "elapsed": 227,
     "status": "ok",
     "timestamp": 1646243927298,
     "user": {
      "displayName": "Elizabeth Barnes",
      "photoUrl": "https://lh3.googleusercontent.com/a-/AOh14GiNPVVIWP6XAkP_hwu-8rAxoeeNuk2BMkX5-yuA=s64",
      "userId": "07585723222468022011"
     },
     "user_tz": 420
    },
    "id": "LjiBWXuw2Qbo",
    "outputId": "1c049d4f-6e37-46fe-f31c-744cc1bb242c"
   },
   "outputs": [],
   "source": [
    "# Printing the shapes of our input and output arrays (#samples , #dimension of input/output)\n",
    "print('Input Array Shape:', input.shape)\n",
    "print('Output Array Shape:', output.shape)"
   ]
  },
  {
   "cell_type": "markdown",
   "metadata": {
    "id": "7lrkzNsd3vPY"
   },
   "source": [
    "### 1.3 Visualizing our Data"
   ]
  },
  {
   "cell_type": "markdown",
   "metadata": {
    "id": "saw7iTsVVQJp"
   },
   "source": [
    "Let's look at what our output data actually looks like."
   ]
  },
  {
   "cell_type": "code",
   "execution_count": null,
   "metadata": {
    "colab": {
     "base_uri": "https://localhost:8080/"
    },
    "executionInfo": {
     "elapsed": 34,
     "status": "ok",
     "timestamp": 1646243927299,
     "user": {
      "displayName": "Elizabeth Barnes",
      "photoUrl": "https://lh3.googleusercontent.com/a-/AOh14GiNPVVIWP6XAkP_hwu-8rAxoeeNuk2BMkX5-yuA=s64",
      "userId": "07585723222468022011"
     },
     "user_tz": 420
    },
    "id": "tO_45vnhDeDq",
    "outputId": "cdccc31d-72c8-457e-b52b-89750d7732e5"
   },
   "outputs": [],
   "source": [
    "# How often does our data fall into each category?\n",
    "calcpercent = lambda cat: str((np.sum(output_class == cat)/len(output_class)*100).astype(int))\n",
    "\n",
    "# Print out the sizes of each class\n",
    "print('Frequency for each Ozone Category')\n",
    "print('Good: ' + calcpercent(0) + '%')\n",
    "print('Fair: ' + calcpercent(1) + '%')\n",
    "print('Poor: ' + calcpercent(2) + '%')"
   ]
  },
  {
   "cell_type": "code",
   "execution_count": null,
   "metadata": {
    "colab": {
     "base_uri": "https://localhost:8080/",
     "height": 0
    },
    "executionInfo": {
     "elapsed": 657,
     "status": "ok",
     "timestamp": 1646243927922,
     "user": {
      "displayName": "Elizabeth Barnes",
      "photoUrl": "https://lh3.googleusercontent.com/a-/AOh14GiNPVVIWP6XAkP_hwu-8rAxoeeNuk2BMkX5-yuA=s64",
      "userId": "07585723222468022011"
     },
     "user_tz": 420
    },
    "id": "6AjbZz3Y3ufo",
    "outputId": "5f38af23-583b-4e30-9b9f-4eda3e589b8d"
   },
   "outputs": [],
   "source": [
    "# Distribution of ozone concentrations\n",
    "sb.displot(output_raw, kind='hist')\n",
    "plt.xlabel('Ozone (ppb)')\n",
    "plt.axvline(x=71, color='red')\n",
    "plt.axvline(x=55, color='goldenrod')\n",
    "plt.text(56, 50, 'Fair', rotation=90, color='goldenrod')\n",
    "plt.text(72, 50, 'Poor', rotation=90, color='red')\n",
    "\n",
    "plt.title('Histogram of O3 Concentrations in Joshua Tree NP', fontweight='demi')\n",
    "plt.plot()\n",
    "plt.show()"
   ]
  },
  {
   "cell_type": "code",
   "execution_count": null,
   "metadata": {
    "colab": {
     "base_uri": "https://localhost:8080/",
     "height": 0
    },
    "executionInfo": {
     "elapsed": 4227,
     "status": "ok",
     "timestamp": 1646243932133,
     "user": {
      "displayName": "Elizabeth Barnes",
      "photoUrl": "https://lh3.googleusercontent.com/a-/AOh14GiNPVVIWP6XAkP_hwu-8rAxoeeNuk2BMkX5-yuA=s64",
      "userId": "07585723222468022011"
     },
     "user_tz": 420
    },
    "id": "Tp38o54I5ESG",
    "outputId": "77cd6fef-2c66-4ee6-b9bd-517c890c923c"
   },
   "outputs": [],
   "source": [
    "# Distribution of ozone concentrations in each month\n",
    "\n",
    "fig, axs = plt.subplots(2, 6, figsize = (15,5))\n",
    "\n",
    "for m in np.arange(12):\n",
    "  ax = axs[m//6,m%6]\n",
    "  sb.histplot(output_raw[month == m+1], ax=ax)\n",
    "  ax.set_title(datetime.datetime.strptime(str(m+1), \"%m\").strftime(\"%b\"))\n",
    "  ax.axvline(x=71, color='red')\n",
    "  ax.axvline(x=55, color='goldenrod')\n",
    "  ax.set_xlim(0,100)\n",
    "  ax.set_ylim(0,500)\n",
    "\n",
    "fig.tight_layout(pad=1.0)\n",
    "print('O3 Concentrations in Each Month')"
   ]
  },
  {
   "cell_type": "code",
   "execution_count": null,
   "metadata": {
    "colab": {
     "base_uri": "https://localhost:8080/",
     "height": 0
    },
    "executionInfo": {
     "elapsed": 4103,
     "status": "ok",
     "timestamp": 1646243936218,
     "user": {
      "displayName": "Elizabeth Barnes",
      "photoUrl": "https://lh3.googleusercontent.com/a-/AOh14GiNPVVIWP6XAkP_hwu-8rAxoeeNuk2BMkX5-yuA=s64",
      "userId": "07585723222468022011"
     },
     "user_tz": 420
    },
    "id": "vqdk4zfY-ACv",
    "outputId": "80a561f3-f681-4752-afd3-775254c30ffb"
   },
   "outputs": [],
   "source": [
    "# Distribution of ozone concentrations in each year\n",
    "\n",
    "fig, axs = plt.subplots(2, 7, figsize = (15,5))\n",
    "\n",
    "axidx = 0\n",
    "for y in np.unique(year):\n",
    "  ax = axs[axidx//7,axidx%7]\n",
    "  sb.histplot(output_raw[year == y], ax=ax)\n",
    "  ax.set_title(y)\n",
    "  ax.axvline(x=71, color='red')\n",
    "  ax.axvline(x=55, color='goldenrod')\n",
    "  ax.set_xlim(0,100)\n",
    "  axidx+=1\n",
    "\n",
    "fig.tight_layout(pad=1.0)\n",
    "print('O3 Concentrations in Each Year')"
   ]
  },
  {
   "cell_type": "code",
   "execution_count": null,
   "metadata": {
    "colab": {
     "base_uri": "https://localhost:8080/",
     "height": 0
    },
    "executionInfo": {
     "elapsed": 594,
     "status": "ok",
     "timestamp": 1646243936794,
     "user": {
      "displayName": "Elizabeth Barnes",
      "photoUrl": "https://lh3.googleusercontent.com/a-/AOh14GiNPVVIWP6XAkP_hwu-8rAxoeeNuk2BMkX5-yuA=s64",
      "userId": "07585723222468022011"
     },
     "user_tz": 420
    },
    "id": "O7KyKo2nCkMS",
    "outputId": "a0d47450-4101-4ab1-83d2-e8a28654c1e4"
   },
   "outputs": [],
   "source": [
    "# How many samples are available in each year? Data cannot be used if \n",
    "# there are NaNs (see 2013)\n",
    "sb.histplot(year)\n",
    "plt.title('Number of Usable Samples in Each Year');"
   ]
  },
  {
   "cell_type": "markdown",
   "metadata": {
    "id": "84Z-QzHQ3Gos"
   },
   "source": [
    "### 1.4 Partitioning Data in Training and Validation Sets"
   ]
  },
  {
   "cell_type": "markdown",
   "metadata": {
    "id": "eZzjby-W137P"
   },
   "source": [
    "Our data is highly temporally correlated, so we are going to separate training, validation, and testing by grabbing different years of data. *Not* by random sampling.\n",
    "\n",
    "**Some Variable Definitions**\n",
    "\n",
    "* ```Xtrain/Xval:*** 2-D Arrays of input data (shape: #samples, #input_variables)```\n",
    "\n",
    "* ```Ttrain/Tval:*** 2-D Arrays of target output data (true ozone class likelihood; shape: #samples, #classes)```\n",
    "\n",
    "* ```Ptrain/Pval:*** 2-D Arrays of predicted output data (predicted ozone class likelihoods; shape: #samples, #classes)```\n",
    "\n",
    "* ```Xtrain_raw/Xval_raw:*** 2-D Arrays of raw (pre-standardized) input data (shape: #samples, #input_variables)```\n",
    "\n",
    "* ```O3train/O3val:*** 1-D Arrays of raw ozone measurements (ppb; shape: #samples)```\n",
    "\n",
    "* ```Cttrain/Ctval:*** 1-D Arrays of the true ozone class (shape: #samples)```\n",
    "\n",
    "* ```Cptrain/Cpval:*** 1-D Arrays of the predicted ozone class with the highest likelihood (shape #samples)```"
   ]
  },
  {
   "cell_type": "code",
   "execution_count": null,
   "metadata": {
    "executionInfo": {
     "elapsed": 37,
     "status": "ok",
     "timestamp": 1646243936794,
     "user": {
      "displayName": "Elizabeth Barnes",
      "photoUrl": "https://lh3.googleusercontent.com/a-/AOh14GiNPVVIWP6XAkP_hwu-8rAxoeeNuk2BMkX5-yuA=s64",
      "userId": "07585723222468022011"
     },
     "user_tz": 420
    },
    "id": "qS34wb-2xSUV"
   },
   "outputs": [],
   "source": [
    "# Using the years 2010 - 2019 for training, 2020-2021 for validation\n",
    "TRAIN_RANGE = (2010, 2019)\n",
    "VAL_RANGE = (2020, 2021)"
   ]
  },
  {
   "cell_type": "code",
   "execution_count": null,
   "metadata": {
    "colab": {
     "base_uri": "https://localhost:8080/"
    },
    "executionInfo": {
     "elapsed": 37,
     "status": "ok",
     "timestamp": 1646243936795,
     "user": {
      "displayName": "Elizabeth Barnes",
      "photoUrl": "https://lh3.googleusercontent.com/a-/AOh14GiNPVVIWP6XAkP_hwu-8rAxoeeNuk2BMkX5-yuA=s64",
      "userId": "07585723222468022011"
     },
     "user_tz": 420
    },
    "id": "rdaEo2W8Jfv4",
    "outputId": "ce6b36a7-5aa1-4543-efb9-74b2048fd5c5"
   },
   "outputs": [],
   "source": [
    "# Splitting into training, testing, validation\n",
    "\n",
    "# This function returns a boolean array of years that fall within the given year range\n",
    "year_bool = lambda yrrange: np.logical_and(year>=yrrange[0], year<=yrrange[1])\n",
    "\n",
    "# Create the input and output arrays from training, testing, validation sets\n",
    "# Inputs haven't been standardized yet (thus \"_raw\")\n",
    "\n",
    "Xtrain_raw = input[year_bool(TRAIN_RANGE)] # these are the inputs (X)\n",
    "Ttrain = output[year_bool(TRAIN_RANGE)] # these are the outputs (T is for target)\n",
    "\n",
    "Xval_raw = input[year_bool(VAL_RANGE)]\n",
    "Tval = output[year_bool(VAL_RANGE)]\n",
    "\n",
    "# These are the raw outputs in each set for use later\n",
    "O3train = output_raw[year_bool(TRAIN_RANGE)]\n",
    "O3val = output_raw[year_bool(VAL_RANGE)]\n",
    "\n",
    "print('Shapes:')\n",
    "print('  Xtrain: ', Xtrain_raw.shape)\n",
    "print('  Xval: ', Xval_raw.shape)\n",
    "print('  Ttrain: ', Ttrain.shape)\n",
    "print('  Tval: ', Tval.shape)"
   ]
  },
  {
   "cell_type": "code",
   "execution_count": null,
   "metadata": {
    "executionInfo": {
     "elapsed": 36,
     "status": "ok",
     "timestamp": 1646243936795,
     "user": {
      "displayName": "Elizabeth Barnes",
      "photoUrl": "https://lh3.googleusercontent.com/a-/AOh14GiNPVVIWP6XAkP_hwu-8rAxoeeNuk2BMkX5-yuA=s64",
      "userId": "07585723222468022011"
     },
     "user_tz": 420
    },
    "id": "14W1NsXFWWLy"
   },
   "outputs": [],
   "source": [
    "# Standardizing the training, testing, and validation data\n",
    "\n",
    "# This function takes a raw set of input fields (for example, the training, \n",
    "# validation, or testing arrays), and standardizes it based on the training data.\n",
    "\n",
    "standardize_input = lambda dat, x, s: (dat - x)/s \n",
    "\n",
    "# Calculate mean and standard deviation of the training data\n",
    "trainmean = Xtrain_raw.mean(axis=0) \n",
    "trainstd  = Xtrain_raw.std(axis=0) \n",
    "\n",
    "Xtrain = standardize_input(Xtrain_raw, trainmean, trainstd)\n",
    "Xval = standardize_input(Xval_raw, trainmean, trainstd)"
   ]
  },
  {
   "cell_type": "markdown",
   "metadata": {
    "id": "sI3_qEFUKkjb"
   },
   "source": [
    "# 2. Neural Network"
   ]
  },
  {
   "cell_type": "markdown",
   "metadata": {
    "id": "ZWXnTtfnKxnG"
   },
   "source": [
    "### 2.1 Building the Model"
   ]
  },
  {
   "cell_type": "code",
   "execution_count": null,
   "metadata": {
    "executionInfo": {
     "elapsed": 37,
     "status": "ok",
     "timestamp": 1646243936796,
     "user": {
      "displayName": "Elizabeth Barnes",
      "photoUrl": "https://lh3.googleusercontent.com/a-/AOh14GiNPVVIWP6XAkP_hwu-8rAxoeeNuk2BMkX5-yuA=s64",
      "userId": "07585723222468022011"
     },
     "user_tz": 420
    },
    "id": "YvMH7n2KJkK9"
   },
   "outputs": [],
   "source": [
    "# Let's import some different things we will use to build the neural network\n",
    "from tensorflow.keras import Model\n",
    "from tensorflow.keras.layers import Dense, Input, Dropout, Softmax"
   ]
  },
  {
   "cell_type": "code",
   "execution_count": null,
   "metadata": {
    "executionInfo": {
     "elapsed": 37,
     "status": "ok",
     "timestamp": 1646243936796,
     "user": {
      "displayName": "Elizabeth Barnes",
      "photoUrl": "https://lh3.googleusercontent.com/a-/AOh14GiNPVVIWP6XAkP_hwu-8rAxoeeNuk2BMkX5-yuA=s64",
      "userId": "07585723222468022011"
     },
     "user_tz": 420
    },
    "id": "3Y79R5VYNMQL"
   },
   "outputs": [],
   "source": [
    "### Here is where we actually build the model\n",
    "\n",
    "def compile_model():\n",
    "  # This isn't good practice, but model will be a global variable\n",
    "  global model\n",
    "\n",
    "  # First we start with an input layer\n",
    "  input_layer = Input(shape=Xtrain[0].shape) # size per sample, equal to number of features\n",
    "  \n",
    "  # Let's apply dropout to the input layer. (If Dropout(0), Dropout isn't being used)\n",
    "  # layers = Dropout(0)(input_layer)\n",
    "  layers = input_layer\n",
    "\n",
    "  # Now let's add a few layers. We are going to do two layers with 5 nodes each.\n",
    "  # Each uses the 'relu' activation function and randomizes the initial weights/biases\n",
    "  # Dropout may be useful for hidden layers if the number of hidden nodes is large\n",
    "  # If Dropout(0), Dropout isn't being used.\n",
    "\n",
    "  for hidden, activation in zip(HIDDENS, ACTIVATIONS):\n",
    "    layers = Dense(hidden, activation=activation,\n",
    "                   bias_initializer=tf.keras.initializers.RandomNormal(seed=SEED),\n",
    "                   kernel_initializer=tf.keras.initializers.RandomNormal(seed=SEED))(layers)\n",
    "    \n",
    "    # layers = Dropout(0)(layers)\n",
    "\n",
    "  # Output layer has a softmax function to convert output to class likelihood\n",
    "  output_layer = Dense(Ttrain.shape[1], activation='softmax',\n",
    "                      bias_initializer=tf.keras.initializers.RandomNormal(seed=SEED),\n",
    "                      kernel_initializer=tf.keras.initializers.RandomNormal(seed=SEED))(layers)\n",
    "\n",
    "  # Constructing the model\n",
    "  model = Model(input_layer, output_layer)\n",
    "  optimizer = tf.keras.optimizers.Adam(learning_rate=LEARNING_RATE) # Using the Adam optimizer\n",
    "  model.compile(optimizer=optimizer, loss=LOSS, \n",
    "                metrics=[tf.keras.metrics.CategoricalAccuracy()])\n",
    "  \n",
    "  model.summary()\n",
    "\n",
    "\n",
    "### This is the function that will iteratively train the model\n",
    "\n",
    "def fit_model():\n",
    "  global history\n",
    "  history = model.fit(Xtrain, Ttrain, \n",
    "                      epochs=NUM_EPOCHS, \n",
    "                      verbose=VERBOSITY,\n",
    "                      batch_size = BATCH_SIZE, shuffle=True,\n",
    "                      validation_data=[Xval, Tval],\n",
    "                      class_weight = CLASS_WEIGHT, \n",
    "                      callbacks=[EARLY_STOPPING])"
   ]
  },
  {
   "cell_type": "markdown",
   "metadata": {
    "id": "13wObSJaoSsk"
   },
   "source": [
    "### 2.2 Training the Model"
   ]
  },
  {
   "cell_type": "code",
   "execution_count": null,
   "metadata": {
    "executionInfo": {
     "elapsed": 37,
     "status": "ok",
     "timestamp": 1646243936796,
     "user": {
      "displayName": "Elizabeth Barnes",
      "photoUrl": "https://lh3.googleusercontent.com/a-/AOh14GiNPVVIWP6XAkP_hwu-8rAxoeeNuk2BMkX5-yuA=s64",
      "userId": "07585723222468022011"
     },
     "user_tz": 420
    },
    "id": "7QY2ycJWOy5B"
   },
   "outputs": [],
   "source": [
    "# This builds, compiles, then fits, the model. \n",
    "# It's important to recompile the model each time before fitting.\n",
    "\n",
    "def train_model():\n",
    "  compile_model()\n",
    "  fit_model()"
   ]
  },
  {
   "cell_type": "code",
   "execution_count": null,
   "metadata": {
    "colab": {
     "base_uri": "https://localhost:8080/"
    },
    "executionInfo": {
     "elapsed": 23539,
     "status": "ok",
     "timestamp": 1646243960299,
     "user": {
      "displayName": "Elizabeth Barnes",
      "photoUrl": "https://lh3.googleusercontent.com/a-/AOh14GiNPVVIWP6XAkP_hwu-8rAxoeeNuk2BMkX5-yuA=s64",
      "userId": "07585723222468022011"
     },
     "user_tz": 420
    },
    "id": "z7kbrJHQTY8X",
    "outputId": "bce018f6-756b-460f-ddbf-f99f64c22e96"
   },
   "outputs": [],
   "source": [
    "#  MODIFY HYPERPARAMETERS HERE\n",
    "### Here are some model architecture hyperparameters we can mess with\n",
    "\n",
    "SEED = 28980 # used for setting random values so results are reproducable\n",
    "\n",
    "HIDDENS = [1, 1] # Number of hidden nodes in each layer of the model (list of ints)\n",
    "ACTIVATIONS = ['sigmoid'] * len(HIDDENS) # Activation function used in the hidden layers (list of strs)\n",
    "\n",
    "### Here are some training options\n",
    "NUM_EPOCHS = 3 # Max number of times all of the data will be seen iteratively in training\n",
    "BATCH_SIZE = 1_000 # Number of samples\n",
    "VERBOSITY = 0 # 0: Silent during model.fit; 1: Progress bar; 2: Prints each epoch\n",
    "LEARNING_RATE = 100. # Learning rate (think step size)\n",
    "LOSS = 'categorical_crossentropy' # Loss function\n",
    "\n",
    "### Here we can change how much the loss function takes into consideration different classes\n",
    "CLASS_WEIGHT = {0 : 1 / np.mean(Ttrain[:,0] == 1),\n",
    "                1 : 1 / np.mean(Ttrain[:,1] == 1),\n",
    "                2 : 1 / np.mean(Ttrain[:,2] == 1)}\n",
    "#CLASS_WEIGHT = {0 : 1, 1 : 1, 2 : 1}\n",
    "\n",
    "### Early Stopping\n",
    "EARLY_STOPPING = tf.keras.callbacks.EarlyStopping(monitor='val_loss',\n",
    "                                                   patience=20,\n",
    "                                                   verbose=1,\n",
    "                                                   mode='auto',\n",
    "                                                   restore_best_weights=True)\n",
    "\n",
    "# Setting a seed for tensorflow so results are reproducable\n",
    "try: # tensorflow 2\n",
    "  tf.random.set_seed(SEED)\n",
    "except: # tf1\n",
    "  tf.set_random_seed(SEED)\n",
    "\n",
    "########################################################\n",
    "### TRAIN THE MODEL ####################################\n",
    "########################################################\n",
    "\n",
    "# Training the model\n",
    "train_model()"
   ]
  },
  {
   "cell_type": "code",
   "execution_count": null,
   "metadata": {
    "colab": {
     "base_uri": "https://localhost:8080/",
     "height": 279
    },
    "executionInfo": {
     "elapsed": 512,
     "status": "ok",
     "timestamp": 1646243960774,
     "user": {
      "displayName": "Elizabeth Barnes",
      "photoUrl": "https://lh3.googleusercontent.com/a-/AOh14GiNPVVIWP6XAkP_hwu-8rAxoeeNuk2BMkX5-yuA=s64",
      "userId": "07585723222468022011"
     },
     "user_tz": 420
    },
    "id": "kGV1eFO56uXm",
    "outputId": "45786bd8-3b3b-41bc-8d15-89b60ecbcff9"
   },
   "outputs": [],
   "source": [
    "# Let's plot the change in loss and categorical_accuracy\n",
    "\n",
    "fig, axs = plt.subplots(1, 2, figsize = (10,4))\n",
    "\n",
    "axs[0].plot(history.history['loss'], label='training')\n",
    "axs[0].plot(history.history['val_loss'], label='validation')\n",
    "axs[0].set_xlabel('Epoch')\n",
    "axs[0].set_ylabel('Loss')\n",
    "axs[0].legend()\n",
    "\n",
    "axs[1].plot(history.history['categorical_accuracy'], label='training')\n",
    "axs[1].plot(history.history['val_categorical_accuracy'], label='validation')\n",
    "axs[1].set_xlabel('Epoch')\n",
    "axs[1].set_ylabel('Categorical Accuracy')\n",
    "axs[1].legend();"
   ]
  },
  {
   "cell_type": "code",
   "execution_count": null,
   "metadata": {
    "colab": {
     "base_uri": "https://localhost:8080/"
    },
    "executionInfo": {
     "elapsed": 1578,
     "status": "ok",
     "timestamp": 1646243962334,
     "user": {
      "displayName": "Elizabeth Barnes",
      "photoUrl": "https://lh3.googleusercontent.com/a-/AOh14GiNPVVIWP6XAkP_hwu-8rAxoeeNuk2BMkX5-yuA=s64",
      "userId": "07585723222468022011"
     },
     "user_tz": 420
    },
    "id": "0ry9E6bJpAkU",
    "outputId": "92ff0f43-2a17-4c60-bcbe-372339fe7b34"
   },
   "outputs": [],
   "source": [
    "# What predictions did the model make for our training, validation, and test sets?\n",
    "Ptrain = model.predict(Xtrain) # Array of class likelihoods for each class\n",
    "Pval = model.predict(Xval)\n",
    "\n",
    "Cptrain = Ptrain.argmax(axis=1) # 1-D array of predicted class (highest likelihood)\n",
    "Cpval = Pval.argmax(axis=1)\n",
    "\n",
    "Cttrain = Ttrain.argmax(axis=1) # 1-D array of truth class\n",
    "Ctval = Tval.argmax(axis=1)"
   ]
  },
  {
   "cell_type": "markdown",
   "metadata": {
    "id": "fQT3clZbZDXn"
   },
   "source": [
    "### 2.3 Model Performance\n",
    "How should we evaluate our ANN's performance? Categorical accuracy is one way, which tells us how often any class was correctly predicted. However, by this metric, since 65% of our data points are from days with \"Good\" ozone, our model could learn to predict \"Good\" every time and we would still be 65% accurate. This doesn't allow us to learn anything about what it takes to predict \"Fair\" or \"Poor\" ozone days. Below, we compare categorical accuracy, to weighted categorical accuracy which takes into account class imbalances."
   ]
  },
  {
   "cell_type": "code",
   "execution_count": null,
   "metadata": {
    "colab": {
     "base_uri": "https://localhost:8080/"
    },
    "executionInfo": {
     "elapsed": 185,
     "status": "ok",
     "timestamp": 1646243962500,
     "user": {
      "displayName": "Elizabeth Barnes",
      "photoUrl": "https://lh3.googleusercontent.com/a-/AOh14GiNPVVIWP6XAkP_hwu-8rAxoeeNuk2BMkX5-yuA=s64",
      "userId": "07585723222468022011"
     },
     "user_tz": 420
    },
    "id": "F5mjzp1EjRPo",
    "outputId": "c70f4305-757c-41e9-9f48-434757eef7a9"
   },
   "outputs": [],
   "source": [
    "from sklearn.metrics import f1_score, accuracy_score\n",
    "print('Validation Categorical Accuracy:', accuracy_score(Ctval, Cpval) )\n",
    "\n",
    "# Weight equal to the inverse of the frequency of the class\n",
    "cat_weights = np.sum((1 / np.mean(Ttrain, axis=0)) * Tval, axis=1) \n",
    "print('Validation Weighted Categorical Accuracy:', accuracy_score(Ctval, Cpval, sample_weight=cat_weights) )"
   ]
  },
  {
   "cell_type": "code",
   "execution_count": null,
   "metadata": {
    "executionInfo": {
     "elapsed": 36,
     "status": "ok",
     "timestamp": 1646243962500,
     "user": {
      "displayName": "Elizabeth Barnes",
      "photoUrl": "https://lh3.googleusercontent.com/a-/AOh14GiNPVVIWP6XAkP_hwu-8rAxoeeNuk2BMkX5-yuA=s64",
      "userId": "07585723222468022011"
     },
     "user_tz": 420
    },
    "id": "capsBG1d1uW0"
   },
   "outputs": [],
   "source": [
    "def confusion_matrix(predclasses, targclasses):\n",
    "\n",
    "  class_names = np.unique(targclasses)\n",
    "\n",
    "  table = []\n",
    "  for pred_class in class_names:\n",
    "    row = []\n",
    "    for true_class in class_names:\n",
    "        row.append(100 * np.mean(predclasses[targclasses == true_class] == pred_class))\n",
    "    table.append(row)\n",
    "  class_titles_t = [\"T(Good)\", \"T(Fair)\", \"T(Poor)\"]\n",
    "  class_titles_p = [\"P(Good)\", \"P(Fair)\", \"P(Poor)\"]\n",
    "  conf_matrix = pd.DataFrame(table, index=class_titles_p, columns=class_titles_t)\n",
    "  display(conf_matrix.style.background_gradient(cmap='Blues').format(\"{:.1f}\"))"
   ]
  },
  {
   "cell_type": "code",
   "execution_count": null,
   "metadata": {
    "colab": {
     "base_uri": "https://localhost:8080/",
     "height": 287
    },
    "executionInfo": {
     "elapsed": 191,
     "status": "ok",
     "timestamp": 1646243962655,
     "user": {
      "displayName": "Elizabeth Barnes",
      "photoUrl": "https://lh3.googleusercontent.com/a-/AOh14GiNPVVIWP6XAkP_hwu-8rAxoeeNuk2BMkX5-yuA=s64",
      "userId": "07585723222468022011"
     },
     "user_tz": 420
    },
    "id": "8JZegNvJ1x6-",
    "outputId": "ab98ad03-a169-4d18-fbf5-c8355549aea6"
   },
   "outputs": [],
   "source": [
    "print(\"Predicted versus Target Classes\")\n",
    "confusion_matrix(Cptrain, Cttrain)\n",
    "confusion_matrix(Cpval, Ctval)"
   ]
  },
  {
   "cell_type": "code",
   "execution_count": null,
   "metadata": {
    "colab": {
     "base_uri": "https://localhost:8080/",
     "height": 295
    },
    "executionInfo": {
     "elapsed": 387,
     "status": "ok",
     "timestamp": 1646243962988,
     "user": {
      "displayName": "Elizabeth Barnes",
      "photoUrl": "https://lh3.googleusercontent.com/a-/AOh14GiNPVVIWP6XAkP_hwu-8rAxoeeNuk2BMkX5-yuA=s64",
      "userId": "07585723222468022011"
     },
     "user_tz": 420
    },
    "id": "oLyRWUOu4sMN",
    "outputId": "90774ebe-8ae4-4423-ccf6-2a2ed3cb9a43"
   },
   "outputs": [],
   "source": [
    "df_class0 = pd.DataFrame(O3val[Cpval == 0])\n",
    "df_class1 = pd.DataFrame(O3val[Cpval == 1])\n",
    "df_class2 = pd.DataFrame(O3val[Cpval == 2])\n",
    "\n",
    "sb.violinplot(data = [O3val[Cpval == 0], \n",
    "                     O3val[Cpval == 1], \n",
    "                     O3val[Cpval == 2]])\n",
    "\n",
    "plt.axhline(55, color='goldenrod', zorder=0)\n",
    "plt.axhline(71, color='red', zorder=0)\n",
    "plt.ylabel('Ozone (ppb)')\n",
    "plt.xlabel('Predicted Class')\n",
    "plt.xticks([0,1,2], [\"Good\", \"Fair\", \"Poor\"],)\n",
    "plt.title('O3 Concentrations when each Class is Predicted', fontweight='demi')\n",
    "plt.show()"
   ]
  },
  {
   "cell_type": "markdown",
   "metadata": {
    "id": "q7reR-uCQM7E",
    "tags": []
   },
   "source": [
    "# 4. Model Competition - Do Not Run"
   ]
  },
  {
   "cell_type": "markdown",
   "metadata": {
    "id": "QqIVAjqyQUih",
    "tags": []
   },
   "source": [
    "We have set aside a bunch of ozone data. Tune your model to the best of your abilities, and we will see how it performed at the end of class. Specifically, we will be using Weighted Categorical Accuracy to measure model performance."
   ]
  },
  {
   "cell_type": "code",
   "execution_count": null,
   "metadata": {
    "executionInfo": {
     "elapsed": 37,
     "status": "ok",
     "timestamp": 1646244023787,
     "user": {
      "displayName": "Elizabeth Barnes",
      "photoUrl": "https://lh3.googleusercontent.com/a-/AOh14GiNPVVIWP6XAkP_hwu-8rAxoeeNuk2BMkX5-yuA=s64",
      "userId": "07585723222468022011"
     },
     "user_tz": 420
    },
    "id": "NGEseP36QTL8"
   },
   "outputs": [],
   "source": [
    "CODE = '' # We will give you this at the end of class"
   ]
  },
  {
   "cell_type": "markdown",
   "metadata": {
    "id": "Vp3-WphNX8UZ"
   },
   "source": [
    "DO NOT EDIT THE FOLLOWING:"
   ]
  },
  {
   "cell_type": "code",
   "execution_count": null,
   "metadata": {
    "executionInfo": {
     "elapsed": 36,
     "status": "ok",
     "timestamp": 1646244023787,
     "user": {
      "displayName": "Elizabeth Barnes",
      "photoUrl": "https://lh3.googleusercontent.com/a-/AOh14GiNPVVIWP6XAkP_hwu-8rAxoeeNuk2BMkX5-yuA=s64",
      "userId": "07585723222468022011"
     },
     "user_tz": 420
    },
    "id": "SQuFhq_lRzNB"
   },
   "outputs": [],
   "source": [
    "def compete():\n",
    "\n",
    "  # Read in data from url\n",
    "  url = \"https://raw.githubusercontent.com/eabarnes1010/course_ml_ats/main/data/ozone_data_joshuatreenp_\" + CODE + \".csv\"\n",
    "  data = pd.read_csv(url,parse_dates=[\"DATE_TIME\"],infer_datetime_format=True)\n",
    "  print(data)\n",
    "\n",
    "  # Fix data issue with Daylight Savings Time\n",
    "  duplicate_dates = data['DATE_TIME'][data.duplicated('DATE_TIME')]\n",
    "  for dup_date in duplicate_dates:\n",
    "    idx = data['DATE_TIME'].eq(dup_date).idxmax()\n",
    "    data.at[idx, 'DATE_TIME'] = dup_date - pd.Timedelta(value=1, unit='hours')  \n",
    "\n",
    "  # Add hour and day of year\n",
    "  data['HOUR'] = data['DATE_TIME'].dt.hour\n",
    "  data['MONTH'] = data['DATE_TIME'].dt.month\n",
    "  data['YEAR'] = data['DATE_TIME'].dt.year\n",
    "  data['DAYOFYEAR'] = data['DATE_TIME'].dt.dayofyear\n",
    "  data.sort_values('DATE_TIME', inplace=True, ignore_index = True)\n",
    "\n",
    "  df_data_to_be_used = data[['OZONE'] + INPUT_VARIABLES] \n",
    "  df_data_to_be_used = df_data_to_be_used.rolling(8).mean()\n",
    "  df_data_to_be_used[['DATE_TIME', 'HOUR', 'MONTH', 'YEAR']] = \\\n",
    "      data[['DATE_TIME', 'HOUR', 'MONTH', 'YEAR']] \n",
    "  df_data_to_be_used.dropna(inplace=True)\n",
    "\n",
    "  Xcompete_raw = df_data_to_be_used[INPUT_VARIABLES].values\n",
    "  output_raw = df_data_to_be_used['OZONE'].values\n",
    "  hour = df_data_to_be_used['HOUR'].values\n",
    "  month = df_data_to_be_used['MONTH'].values\n",
    "  year = df_data_to_be_used['YEAR'].values\n",
    "\n",
    "  output_class = (output_raw >= 55).astype(int) + (output_raw >= 71).astype(int)\n",
    "  Tcompete = (output_class.reshape(-1,1) == np.unique(output_class)).astype(int)\n",
    "  year_bool = lambda yrrange: np.logical_and(year>=yrrange[0], year<=yrrange[1])\n",
    "  \n",
    "  standardize_input = lambda dat, x, s: (dat - x)/s \n",
    "  Xcompete = standardize_input(Xcompete_raw, trainmean, trainstd)\n",
    "\n",
    "  Pcompete = model.predict(Xcompete)\n",
    "  Cpcompete = Pcompete.argmax(axis=1)\n",
    "  Ctcompete = Tcompete.argmax(axis=1)\n",
    "\n",
    "  cat_weights = np.sum((1 / np.mean(Ttrain, axis=0)) * Tcompete, axis=1) \n",
    "  print('Congrats! Your overall weighted categorical accuracy is:', accuracy_score(Ctcompete, Cpcompete, sample_weight=cat_weights) )\n",
    "  print(\"Predicted versus Target Classes for Competition Data\")\n",
    "  confusion_matrix(Cpcompete, Ctcompete)"
   ]
  },
  {
   "cell_type": "code",
   "execution_count": null,
   "metadata": {
    "colab": {
     "base_uri": "https://localhost:8080/",
     "height": 317
    },
    "executionInfo": {
     "elapsed": 623,
     "status": "error",
     "timestamp": 1646244024375,
     "user": {
      "displayName": "Elizabeth Barnes",
      "photoUrl": "https://lh3.googleusercontent.com/a-/AOh14GiNPVVIWP6XAkP_hwu-8rAxoeeNuk2BMkX5-yuA=s64",
      "userId": "07585723222468022011"
     },
     "user_tz": 420
    },
    "id": "eMy7TLscU82g",
    "outputId": "d4b3c5ca-7d6b-4c35-9c4f-39508aa0db2f"
   },
   "outputs": [],
   "source": [
    "compete()"
   ]
  },
  {
   "cell_type": "code",
   "execution_count": null,
   "metadata": {
    "executionInfo": {
     "elapsed": 158,
     "status": "aborted",
     "timestamp": 1646244024233,
     "user": {
      "displayName": "Elizabeth Barnes",
      "photoUrl": "https://lh3.googleusercontent.com/a-/AOh14GiNPVVIWP6XAkP_hwu-8rAxoeeNuk2BMkX5-yuA=s64",
      "userId": "07585723222468022011"
     },
     "user_tz": 420
    },
    "id": "c0NUbJhqVAz-"
   },
   "outputs": [],
   "source": []
  }
 ],
 "metadata": {
  "colab": {
   "collapsed_sections": [
    "xYzCs4hS0ShZ"
   ],
   "name": "ann_ozone_joshuatree.ipynb",
   "provenance": [
    {
     "file_id": "1GtH4FaaaqRewMY8KlM5DOhHQl1ZPdiWt",
     "timestamp": 1642113733706
    }
   ]
  },
  "kernelspec": {
   "display_name": "Python 3 (ipykernel)",
   "language": "python",
   "name": "python3"
  },
  "language_info": {
   "codemirror_mode": {
    "name": "ipython",
    "version": 3
   },
   "file_extension": ".py",
   "mimetype": "text/x-python",
   "name": "python",
   "nbconvert_exporter": "python",
   "pygments_lexer": "ipython3",
   "version": "3.9.7"
  }
 },
 "nbformat": 4,
 "nbformat_minor": 4
}
