{
 "cells": [
  {
   "cell_type": "markdown",
   "metadata": {
    "id": "9QQ0q47JvgwX"
   },
   "source": [
    "# Random forest with Christman Field Data\n",
    "[![Latest release](https://badgen.net/github/release/Naereen/Strapdown.js)](https://github.com/eabarnes1010/course_objective_analysis/tree/main/code)\n",
    "[![Open In Colab](https://colab.research.google.com/assets/colab-badge.svg)](https://colab.research.google.com/github/eabarnes1010/course_objective_analysis/blob/main/code/random_forest_christman.ipynb)\n",
    "\n",
    "* Iris example adapted from: https://www.datacamp.com/community/tutorials/random-forests-classifier-python\n",
    "* Further modified by: Aaron Hill and Wei-Ting Hsiao (Dept. of Atmospheric Science, Colorado State University), January 2020\n",
    "* Further adapted by: Prof. Elizabeth Barnes for ATS 655 and ATS 780A7 Spring 2022 at Colorado State University"
   ]
  },
  {
   "cell_type": "markdown",
   "metadata": {
    "id": "7V55BtYqA52O"
   },
   "source": [
    "Lets import some libraries we will need throughout this tutorial:\n",
    "\n"
   ]
  },
  {
   "cell_type": "code",
   "execution_count": null,
   "metadata": {
    "colab": {
     "base_uri": "https://localhost:8080/"
    },
    "executionInfo": {
     "elapsed": 126,
     "status": "ok",
     "timestamp": 1644863018084,
     "user": {
      "displayName": "Elizabeth Barnes",
      "photoUrl": "https://lh3.googleusercontent.com/a-/AOh14GiNPVVIWP6XAkP_hwu-8rAxoeeNuk2BMkX5-yuA=s64",
      "userId": "07585723222468022011"
     },
     "user_tz": 420
    },
    "id": "YQUUpem1c3tt",
    "outputId": "078be430-92e9-4a17-8592-0fb1bf1a7885"
   },
   "outputs": [],
   "source": [
    "try:\n",
    "    import google.colab\n",
    "    IN_COLAB = True\n",
    "except:\n",
    "    IN_COLAB = False\n",
    "print('IN_COLAB = ' + str(IN_COLAB))"
   ]
  },
  {
   "cell_type": "code",
   "execution_count": null,
   "metadata": {
    "executionInfo": {
     "elapsed": 36,
     "status": "ok",
     "timestamp": 1644863018210,
     "user": {
      "displayName": "Elizabeth Barnes",
      "photoUrl": "https://lh3.googleusercontent.com/a-/AOh14GiNPVVIWP6XAkP_hwu-8rAxoeeNuk2BMkX5-yuA=s64",
      "userId": "07585723222468022011"
     },
     "user_tz": 420
    },
    "id": "TLuuXcBoA5TN"
   },
   "outputs": [],
   "source": [
    "import sys\n",
    "import numpy as np\n",
    "import matplotlib.pyplot as plt\n",
    "\n",
    "import pandas as pd\n",
    "import datetime\n",
    "import sklearn\n",
    "from sklearn.model_selection import train_test_split\n",
    "from sklearn.ensemble import RandomForestClassifier\n",
    "from sklearn.tree import DecisionTreeClassifier\n",
    "from sklearn.tree import export_graphviz\n",
    "from sklearn.inspection import permutation_importance\n",
    "import pydot\n",
    "import matplotlib.pyplot as plt\n",
    "\n",
    "import matplotlib as mpl\n",
    "mpl.rcParams[\"figure.facecolor\"] = \"white\"\n",
    "mpl.rcParams[\"figure.dpi\"] = 150\n"
   ]
  },
  {
   "cell_type": "code",
   "execution_count": null,
   "metadata": {
    "colab": {
     "base_uri": "https://localhost:8080/"
    },
    "executionInfo": {
     "elapsed": 136,
     "status": "ok",
     "timestamp": 1644863018310,
     "user": {
      "displayName": "Elizabeth Barnes",
      "photoUrl": "https://lh3.googleusercontent.com/a-/AOh14GiNPVVIWP6XAkP_hwu-8rAxoeeNuk2BMkX5-yuA=s64",
      "userId": "07585723222468022011"
     },
     "user_tz": 420
    },
    "id": "tO0J_hp2NGIn",
    "outputId": "11ca730b-2a24-4dac-bb94-d3a99dad2590"
   },
   "outputs": [],
   "source": [
    "print(f\"python version = {sys.version}\")\n",
    "print(f\"numpy version = {np.__version__}\")\n",
    "print(f\"scikit-learn version = {sklearn.__version__}\")  "
   ]
  },
  {
   "cell_type": "code",
   "execution_count": null,
   "metadata": {
    "executionInfo": {
     "elapsed": 1540,
     "status": "ok",
     "timestamp": 1644863019831,
     "user": {
      "displayName": "Elizabeth Barnes",
      "photoUrl": "https://lh3.googleusercontent.com/a-/AOh14GiNPVVIWP6XAkP_hwu-8rAxoeeNuk2BMkX5-yuA=s64",
      "userId": "07585723222468022011"
     },
     "user_tz": 420
    },
    "id": "tMfu0LxrVBuL"
   },
   "outputs": [],
   "source": [
    "if(IN_COLAB==True):\n",
    "    try:\n",
    "        from google.colab import drive\n",
    "        drive.mount('/content/drive', force_remount=True)\n",
    "        local_path = '/content/drive/My Drive/Colab Notebooks/'\n",
    "    except:\n",
    "        local_path = './'\n",
    "else:\n",
    "    local_path = '../figures/'"
   ]
  },
  {
   "cell_type": "code",
   "execution_count": null,
   "metadata": {},
   "outputs": [],
   "source": [
    "FS = 16\n",
    "# plt.rc('text',usetex=False)\n",
    "# plt.rc('font',**{'family':'sans-serif','sans-serif':['Helvetica']}) \n",
    "plt.rc('savefig',facecolor='white')\n",
    "plt.rc('axes',facecolor='white')\n",
    "plt.rc('axes',labelcolor='dimgrey')\n",
    "plt.rc('axes',labelcolor='dimgrey')\n",
    "plt.rc('xtick',color='dimgrey')\n",
    "plt.rc('ytick',color='dimgrey')\n"
   ]
  },
  {
   "cell_type": "markdown",
   "metadata": {
    "id": "pq0ubEIlhJ4Y"
   },
   "source": [
    "# 1. Data Preparation"
   ]
  },
  {
   "cell_type": "markdown",
   "metadata": {
    "id": "8TV70rZ43-A6"
   },
   "source": [
    "### 1.1 Data overview"
   ]
  },
  {
   "cell_type": "markdown",
   "metadata": {
    "id": "e_adDXBpYzKN"
   },
   "source": [
    "We have stored a .csv file on a CSU drive, accessible via URL. This will be the basis for our tutorial. This file contains Fort Collins weather data from 2020, and we will use these data to predict the high temperature for a given day with a random forest regression model.  "
   ]
  },
  {
   "cell_type": "code",
   "execution_count": null,
   "metadata": {
    "colab": {
     "base_uri": "https://localhost:8080/",
     "height": 423
    },
    "executionInfo": {
     "elapsed": 227,
     "status": "ok",
     "timestamp": 1644863020038,
     "user": {
      "displayName": "Elizabeth Barnes",
      "photoUrl": "https://lh3.googleusercontent.com/a-/AOh14GiNPVVIWP6XAkP_hwu-8rAxoeeNuk2BMkX5-yuA=s64",
      "userId": "07585723222468022011"
     },
     "user_tz": 420
    },
    "id": "PlulN6WnZ_K8",
    "outputId": "68fce9f1-e432-43ae-d2a6-15bac46937be"
   },
   "outputs": [],
   "source": [
    "# Read in data from url\n",
    "url = \"https://raw.githubusercontent.com/eabarnes1010/course_ml_ats/main/data/fccwx_data_2020.csv\"\n",
    "data = pd.read_csv(url,parse_dates=[\"Date\"],infer_datetime_format=True)\n",
    "data['dayofyear'] = data['Date'].dt.dayofyear\n",
    "data.reindex(index=data.index[::-1])"
   ]
  },
  {
   "cell_type": "markdown",
   "metadata": {
    "id": "OqVhzCoFB2wx"
   },
   "source": [
    "Lets look at our data to see what we are working with"
   ]
  },
  {
   "cell_type": "code",
   "execution_count": null,
   "metadata": {
    "colab": {
     "base_uri": "https://localhost:8080/"
    },
    "executionInfo": {
     "elapsed": 280,
     "status": "ok",
     "timestamp": 1644863020261,
     "user": {
      "displayName": "Elizabeth Barnes",
      "photoUrl": "https://lh3.googleusercontent.com/a-/AOh14GiNPVVIWP6XAkP_hwu-8rAxoeeNuk2BMkX5-yuA=s64",
      "userId": "07585723222468022011"
     },
     "user_tz": 420
    },
    "id": "ibJ9lUMQB8le",
    "outputId": "e04704d0-0626-4ade-9278-078c86e7aa9d"
   },
   "outputs": [],
   "source": [
    "# Display first 5 rows\n",
    "print('The shape of our features is:', data.shape)"
   ]
  },
  {
   "cell_type": "code",
   "execution_count": null,
   "metadata": {
    "colab": {
     "base_uri": "https://localhost:8080/",
     "height": 300
    },
    "executionInfo": {
     "elapsed": 56,
     "status": "ok",
     "timestamp": 1644863020261,
     "user": {
      "displayName": "Elizabeth Barnes",
      "photoUrl": "https://lh3.googleusercontent.com/a-/AOh14GiNPVVIWP6XAkP_hwu-8rAxoeeNuk2BMkX5-yuA=s64",
      "userId": "07585723222468022011"
     },
     "user_tz": 420
    },
    "id": "yZSlkf1u2ZyU",
    "outputId": "5b64938a-9f83-4c85-b477-6df307a0c0d9"
   },
   "outputs": [],
   "source": [
    "# A handy tool in pandas: descriptive statistics for each column\n",
    "data.describe()"
   ]
  },
  {
   "cell_type": "markdown",
   "metadata": {
    "id": "6vLWjiNs4OB7"
   },
   "source": [
    "### 1.2 Targets and features"
   ]
  },
  {
   "cell_type": "markdown",
   "metadata": {
    "id": "WsaFBLnKDPbK"
   },
   "source": [
    "The pandas table is handy for a quick glance, but we need to organize some numpy arrays that separately contain our features and labels."
   ]
  },
  {
   "cell_type": "code",
   "execution_count": null,
   "metadata": {
    "executionInfo": {
     "elapsed": 56,
     "status": "ok",
     "timestamp": 1644863020262,
     "user": {
      "displayName": "Elizabeth Barnes",
      "photoUrl": "https://lh3.googleusercontent.com/a-/AOh14GiNPVVIWP6XAkP_hwu-8rAxoeeNuk2BMkX5-yuA=s64",
      "userId": "07585723222468022011"
     },
     "user_tz": 420
    },
    "id": "dlt6GqYwhgnV"
   },
   "outputs": [],
   "source": [
    "THRESHOLD_TEMP = 10   # default = 10\n",
    "TARGET_VAR = 'Temp [C]'\n",
    "\n",
    "# Labels are the values we want to predict\n",
    "labels = (data[TARGET_VAR] > THRESHOLD_TEMP).astype(int) + (data[TARGET_VAR] > -THRESHOLD_TEMP/2).astype(int)\n",
    "label_names = ('really cold <' + str(THRESHOLD_TEMP) + 'C', 'cold <' + str(THRESHOLD_TEMP) + 'C', 'warm >' + str(THRESHOLD_TEMP) + 'C')\n",
    "\n",
    "# Remove the labels from the features\n",
    "# axis 1 refers to the columns\n",
    "features = data.drop(TARGET_VAR, axis = 1)\n",
    "\n",
    "# Also remove DewPt and Date\n",
    "features = features.drop('DewPt [C]', axis = 1)   # MODIFY: comment out if you want the prediction task to be easy\n",
    "features = features.drop('Date', axis = 1)\n",
    "\n",
    "# Saving feature names for later use\n",
    "feature_list = list(features.columns)\n",
    "\n",
    "# Convert to numpy array\n",
    "features.describe()"
   ]
  },
  {
   "cell_type": "markdown",
   "metadata": {
    "id": "Xb-lrl7Cbcor"
   },
   "source": [
    "As a best practice for classification tasks, always look at a histograms of your labels prior to moving on."
   ]
  },
  {
   "cell_type": "code",
   "execution_count": null,
   "metadata": {},
   "outputs": [],
   "source": [
    "# convert predictors to a numpy array\n",
    "features = np.array(features)"
   ]
  },
  {
   "cell_type": "code",
   "execution_count": null,
   "metadata": {
    "colab": {
     "base_uri": "https://localhost:8080/",
     "height": 265
    },
    "executionInfo": {
     "elapsed": 561,
     "status": "ok",
     "timestamp": 1644863020767,
     "user": {
      "displayName": "Elizabeth Barnes",
      "photoUrl": "https://lh3.googleusercontent.com/a-/AOh14GiNPVVIWP6XAkP_hwu-8rAxoeeNuk2BMkX5-yuA=s64",
      "userId": "07585723222468022011"
     },
     "user_tz": 420
    },
    "id": "gRxDcrjba3ej",
    "outputId": "e4a8fe79-5f2c-4408-b252-ab400f13f3e1"
   },
   "outputs": [],
   "source": [
    "plt.figure()\n",
    "plt.hist(labels)\n",
    "plt.xticks(np.arange(0,len(label_names)),label_names)\n",
    "plt.xlim(-1,3)\n",
    "plt.title('Sample counts by label')\n",
    "plt.ylabel('sample count')\n",
    "plt.show()"
   ]
  },
  {
   "cell_type": "markdown",
   "metadata": {
    "id": "8pRuZk-AhjAP"
   },
   "source": [
    "### 1.3 Splitting training and testing datasets"
   ]
  },
  {
   "cell_type": "markdown",
   "metadata": {
    "id": "95YMbR1YDcqT"
   },
   "source": [
    "Assuming we have no feature data available from 2019 we could use to test our trained models against, we will want to split up our dataset into training and testing portions. A standard proportion is 3/4 for training, 1/4 for testing, although this is somewhat arbitrary here. "
   ]
  },
  {
   "cell_type": "code",
   "execution_count": null,
   "metadata": {
    "executionInfo": {
     "elapsed": 62,
     "status": "ok",
     "timestamp": 1644863020768,
     "user": {
      "displayName": "Elizabeth Barnes",
      "photoUrl": "https://lh3.googleusercontent.com/a-/AOh14GiNPVVIWP6XAkP_hwu-8rAxoeeNuk2BMkX5-yuA=s64",
      "userId": "07585723222468022011"
     },
     "user_tz": 420
    },
    "id": "ggg3rkEphk2N"
   },
   "outputs": [],
   "source": [
    "# Split the data into training and testing sets\n",
    "split_size = 0.25  # MODIFY: proportion of the dataset we want to use for testing. 1 - split_size is used for training. \n",
    "\n",
    "# PARAMETERS:\n",
    "#     test_size: fraction of testing/validation datasets\n",
    "#     random_state: random parameter\n",
    "train_features, val_features, train_labels, val_labels = train_test_split(features, labels, test_size = split_size, random_state = 42)"
   ]
  },
  {
   "cell_type": "markdown",
   "metadata": {
    "id": "SfMNcTlSD7sn"
   },
   "source": [
    "Lets quickly check the size of our training and testing arrays are what we expect (and we didn't do something wrong)"
   ]
  },
  {
   "cell_type": "code",
   "execution_count": null,
   "metadata": {
    "colab": {
     "base_uri": "https://localhost:8080/"
    },
    "executionInfo": {
     "elapsed": 63,
     "status": "ok",
     "timestamp": 1644863020769,
     "user": {
      "displayName": "Elizabeth Barnes",
      "photoUrl": "https://lh3.googleusercontent.com/a-/AOh14GiNPVVIWP6XAkP_hwu-8rAxoeeNuk2BMkX5-yuA=s64",
      "userId": "07585723222468022011"
     },
     "user_tz": 420
    },
    "id": "ZHsogVIIhm5X",
    "outputId": "407366bc-ef75-4b2f-8a7a-816d54c7d39c"
   },
   "outputs": [],
   "source": [
    "print('Training Features Shape:', train_features.shape)\n",
    "print('Training Labels Shape:', train_labels.shape)\n",
    "print('Validation Features Shape:', val_features.shape)\n",
    "print('Validation Labels Shape:', val_labels.shape)"
   ]
  },
  {
   "cell_type": "code",
   "execution_count": null,
   "metadata": {
    "colab": {
     "base_uri": "https://localhost:8080/",
     "height": 283
    },
    "executionInfo": {
     "elapsed": 595,
     "status": "ok",
     "timestamp": 1644863021304,
     "user": {
      "displayName": "Elizabeth Barnes",
      "photoUrl": "https://lh3.googleusercontent.com/a-/AOh14GiNPVVIWP6XAkP_hwu-8rAxoeeNuk2BMkX5-yuA=s64",
      "userId": "07585723222468022011"
     },
     "user_tz": 420
    },
    "id": "a_UYYkShVBuT",
    "outputId": "7e3a09df-33c2-44c9-dccd-ca37104547bf"
   },
   "outputs": [],
   "source": [
    "fig, ax1 = plt.subplots(figsize=(7.5,3))\n",
    "plt.plot(features[:,-1],np.array(data[TARGET_VAR]),'.')\n",
    "plt.axhline(y=THRESHOLD_TEMP,linestyle='--',color='r')\n",
    "plt.axhline(y=-THRESHOLD_TEMP/2,linestyle='--',color='r')\n",
    "plt.xlabel('day of year')\n",
    "plt.ylabel(TARGET_VAR)\n",
    "plt.show()"
   ]
  },
  {
   "cell_type": "markdown",
   "metadata": {
    "id": "PmnUiJhK4pQm"
   },
   "source": [
    "# 2. Creating a random forest"
   ]
  },
  {
   "cell_type": "markdown",
   "metadata": {
    "id": "MoqMJlGiVBuT"
   },
   "source": [
    "### Train the model and visualize it"
   ]
  },
  {
   "cell_type": "code",
   "execution_count": null,
   "metadata": {
    "colab": {
     "base_uri": "https://localhost:8080/"
    },
    "executionInfo": {
     "elapsed": 65,
     "status": "ok",
     "timestamp": 1644863021304,
     "user": {
      "displayName": "Elizabeth Barnes",
      "photoUrl": "https://lh3.googleusercontent.com/a-/AOh14GiNPVVIWP6XAkP_hwu-8rAxoeeNuk2BMkX5-yuA=s64",
      "userId": "07585723222468022011"
     },
     "user_tz": 420
    },
    "id": "lRLNpsHgVBuU",
    "outputId": "a83c7b0d-49db-48b8-f2cb-be9388db1930"
   },
   "outputs": [],
   "source": [
    "# RANDOM FOREST\n",
    "tree_depth = 1       # MODIFY: how deep the tree is allowed to go \n",
    "node_split = 2       # MODIFY: minimum number of training samples needed to split a node\n",
    "leaf_samples = 2     # MODIFY: minimum number of training samples required to make a leaf node\n",
    "number_of_trees = 1  # MODIFY: number of trees to pool/average together in your random forest\n",
    "criterion = 'gini'   # MODIFY: method for choosing impurity, can be \"gini\" or \"entropy\"\n",
    "RAND_STATE = 42      # MODIFY: random number to split data up\n",
    "\n",
    "tree_clf = RandomForestClassifier(n_estimators = number_of_trees, \n",
    "                           random_state = RAND_STATE,\n",
    "                           min_samples_split = node_split,\n",
    "                           min_samples_leaf = leaf_samples,\n",
    "                           criterion = criterion,\n",
    "                           max_depth = tree_depth)\n",
    "tree_clf.fit(train_features,train_labels)\n",
    "\n",
    "#----------------------------------------------------------------------------------------------------\n",
    "from graphviz import Source\n",
    "fig_savename = 'tree_classifier_christman'\n",
    "\n",
    "if(len(np.shape(tree_clf))!=0):\n",
    "    tree_to_viz = tree_clf[0]       # MODIFY: which tree in your random forest do you want to plot, default is the first, i.e. [0]\n",
    "else:\n",
    "    tree_to_viz = tree_clf\n",
    "export_graphviz(tree_to_viz,\n",
    "                out_file=local_path + fig_savename+'.dot',\n",
    "                filled=True,\n",
    "                proportion=False,\n",
    "                leaves_parallel=False,\n",
    "                class_names=label_names,\n",
    "                feature_names=feature_list)\n",
    "Source.from_file(local_path + fig_savename+'.dot')"
   ]
  },
  {
   "cell_type": "markdown",
   "metadata": {
    "id": "S0_gSkHrhySe"
   },
   "source": [
    "### Make predictions"
   ]
  },
  {
   "cell_type": "code",
   "execution_count": null,
   "metadata": {
    "colab": {
     "base_uri": "https://localhost:8080/"
    },
    "executionInfo": {
     "elapsed": 64,
     "status": "ok",
     "timestamp": 1644863021810,
     "user": {
      "displayName": "Elizabeth Barnes",
      "photoUrl": "https://lh3.googleusercontent.com/a-/AOh14GiNPVVIWP6XAkP_hwu-8rAxoeeNuk2BMkX5-yuA=s64",
      "userId": "07585723222468022011"
     },
     "user_tz": 420
    },
    "id": "nj7-Y8xShz3C",
    "outputId": "11bd0ecb-711c-4d93-922b-e7df130bfafb"
   },
   "outputs": [],
   "source": [
    "# predict the class for each sample \n",
    "# result will be an integer for each prediction\n",
    "y_pred_train = tree_clf.predict(train_features)\n",
    "y_pred_val = tree_clf.predict(val_features)\n",
    "y_pred_val"
   ]
  },
  {
   "cell_type": "code",
   "execution_count": null,
   "metadata": {
    "colab": {
     "base_uri": "https://localhost:8080/"
    },
    "executionInfo": {
     "elapsed": 63,
     "status": "ok",
     "timestamp": 1644863021810,
     "user": {
      "displayName": "Elizabeth Barnes",
      "photoUrl": "https://lh3.googleusercontent.com/a-/AOh14GiNPVVIWP6XAkP_hwu-8rAxoeeNuk2BMkX5-yuA=s64",
      "userId": "07585723222468022011"
     },
     "user_tz": 420
    },
    "id": "dNfRvrsnVBuV",
    "outputId": "cda4a265-6b1e-4166-a0f1-6814dcf4aa2e"
   },
   "outputs": [],
   "source": [
    "# show the predicted proababilities for each class\n",
    "# result will be a row for each class, and each row will\n",
    "# have three columns denoting the Pr() for each type of iris\n",
    "tree_clf.predict_proba(val_features)[:5]"
   ]
  },
  {
   "cell_type": "markdown",
   "metadata": {
    "id": "zEEvFIRYiRG7"
   },
   "source": [
    "### Visualization of predictions"
   ]
  },
  {
   "cell_type": "code",
   "execution_count": null,
   "metadata": {
    "colab": {
     "base_uri": "https://localhost:8080/",
     "height": 295
    },
    "executionInfo": {
     "elapsed": 614,
     "status": "ok",
     "timestamp": 1644863022365,
     "user": {
      "displayName": "Elizabeth Barnes",
      "photoUrl": "https://lh3.googleusercontent.com/a-/AOh14GiNPVVIWP6XAkP_hwu-8rAxoeeNuk2BMkX5-yuA=s64",
      "userId": "07585723222468022011"
     },
     "user_tz": 420
    },
    "id": "-JSzI7cgc92n",
    "outputId": "12bac5c5-9459-4f7f-f7d2-7b6e437afdd7"
   },
   "outputs": [],
   "source": [
    "for split_type in (\"Training\",\"Validation\"):\n",
    "    \n",
    "    if split_type==\"Training\":\n",
    "        plot_features = train_features\n",
    "        plot_pred = y_pred_train\n",
    "    elif split_type==\"Validation\":\n",
    "        plot_features = val_features\n",
    "        plot_pred = y_pred_val        \n",
    "    else:\n",
    "        raise NotImplementedError()\n",
    "    \n",
    "    fig, ax1 = plt.subplots(figsize=(7.5,3))\n",
    "    ax2 = ax1.twinx()\n",
    "\n",
    "    ax1.plot(features[:,-1],np.array(data[TARGET_VAR]),'.')\n",
    "    ax1.set_xlabel('day of year')\n",
    "    ax1.set_ylabel(TARGET_VAR)\n",
    "\n",
    "    ax2.plot(plot_features[:,-1],plot_pred,'s',markersize=3,alpha=.3,linewidth=.1,markeredgecolor='r',markerfacecolor='None',)\n",
    "    ax2.set_yticks(np.arange(0,len(label_names)))\n",
    "    ax2.set_yticklabels(label_names, color='r')\n",
    "    ax2.set_ylabel('Random Forest Predicted Class',color='r')\n",
    "\n",
    "    plt.title(split_type + ' Predictions')\n",
    "    plt.show()"
   ]
  },
  {
   "cell_type": "markdown",
   "metadata": {
    "id": "ykoWXlp6VBuW"
   },
   "source": [
    "### Evaluate the classification predictions"
   ]
  },
  {
   "cell_type": "code",
   "execution_count": null,
   "metadata": {
    "colab": {
     "base_uri": "https://localhost:8080/",
     "height": 384
    },
    "executionInfo": {
     "elapsed": 436,
     "status": "ok",
     "timestamp": 1644863022733,
     "user": {
      "displayName": "Elizabeth Barnes",
      "photoUrl": "https://lh3.googleusercontent.com/a-/AOh14GiNPVVIWP6XAkP_hwu-8rAxoeeNuk2BMkX5-yuA=s64",
      "userId": "07585723222468022011"
     },
     "user_tz": 420
    },
    "id": "FVpaL66AVBuW",
    "outputId": "676859bf-ed87-44db-fc7e-d5a84752b7c2"
   },
   "outputs": [],
   "source": [
    "from sklearn.metrics import confusion_matrix\n",
    "from sklearn.metrics import ConfusionMatrixDisplay\n",
    "\n",
    "for split_type in (\"Training\",\"Validation\"):\n",
    "    print(split_type + ' confusion matrix')    \n",
    "    \n",
    "    if split_type==\"Training\":\n",
    "        plot_pred = tree_clf.predict(train_features)\n",
    "        plot_labels = train_labels\n",
    "    elif split_type==\"Validation\":\n",
    "        plot_pred = tree_clf.predict(val_features)\n",
    "        plot_labels = val_labels\n",
    "    else:\n",
    "        raise NotImplementedError()\n",
    "\n",
    "    print(confusion_matrix(plot_labels, plot_pred))\n",
    "    \n",
    "    plt.figure()\n",
    "    ConfusionMatrixDisplay.from_predictions(plot_labels, plot_pred,normalize='true')\n",
    "    plt.title(split_type + ' Data')\n",
    "    plt.show()"
   ]
  },
  {
   "cell_type": "code",
   "execution_count": null,
   "metadata": {
    "colab": {
     "base_uri": "https://localhost:8080/"
    },
    "executionInfo": {
     "elapsed": 69,
     "status": "ok",
     "timestamp": 1644863022734,
     "user": {
      "displayName": "Elizabeth Barnes",
      "photoUrl": "https://lh3.googleusercontent.com/a-/AOh14GiNPVVIWP6XAkP_hwu-8rAxoeeNuk2BMkX5-yuA=s64",
      "userId": "07585723222468022011"
     },
     "user_tz": 420
    },
    "id": "soca30RPVBuX",
    "outputId": "9331f09f-d440-4455-f10d-db5cd37e6eaa"
   },
   "outputs": [],
   "source": [
    "from sklearn.metrics import accuracy_score\n",
    "from sklearn.metrics import f1_score\n",
    "\n",
    "print('ACCURACY')\n",
    "print('    Training   = ' + str((accuracy_score(train_labels, y_pred_train)).round(3)))\n",
    "print('    Validation = ' + str((accuracy_score(val_labels, y_pred_val)).round(3)))\n",
    "\n",
    "print('')\n",
    "\n",
    "print('Macro F1-Score')\n",
    "print('    Training   = ' + str((f1_score(train_labels, y_pred_train, average='macro')).round(3)))\n",
    "print('    Validation = ' + str((f1_score(val_labels, y_pred_val, average='macro')).round(3)))\n",
    "\n",
    "print('')\n",
    "\n",
    "print('Weighted F1-Score')\n",
    "print('    Training   = ' + str((f1_score(train_labels, y_pred_train, average='weighted')).round(3)))\n",
    "print('    Validation = ' + str((f1_score(val_labels, y_pred_val, average='weighted')).round(3)))\n"
   ]
  },
  {
   "cell_type": "markdown",
   "metadata": {
    "id": "rn15156eVBuY"
   },
   "source": [
    "# EVALUATE YOUR MODEL ON 2021 TESTING DATA"
   ]
  },
  {
   "cell_type": "code",
   "execution_count": null,
   "metadata": {
    "colab": {
     "base_uri": "https://localhost:8080/",
     "height": 169
    },
    "executionInfo": {
     "elapsed": 63,
     "status": "error",
     "timestamp": 1644863023197,
     "user": {
      "displayName": "Elizabeth Barnes",
      "photoUrl": "https://lh3.googleusercontent.com/a-/AOh14GiNPVVIWP6XAkP_hwu-8rAxoeeNuk2BMkX5-yuA=s64",
      "userId": "07585723222468022011"
     },
     "user_tz": 420
    },
    "id": "a0n2sHcTVBuY",
    "outputId": "4a21501a-9577-4fdb-ace2-418cf5f177a8"
   },
   "outputs": [],
   "source": [
    "raise ValueError('do not go below this line!')"
   ]
  },
  {
   "cell_type": "code",
   "execution_count": null,
   "metadata": {
    "executionInfo": {
     "elapsed": 62,
     "status": "aborted",
     "timestamp": 1644863023196,
     "user": {
      "displayName": "Elizabeth Barnes",
      "photoUrl": "https://lh3.googleusercontent.com/a-/AOh14GiNPVVIWP6XAkP_hwu-8rAxoeeNuk2BMkX5-yuA=s64",
      "userId": "07585723222468022011"
     },
     "user_tz": 420
    },
    "id": "HfrZtrKPVBuY"
   },
   "outputs": [],
   "source": [
    "# # Read in data from url\n",
    "from sklearn.metrics import f1_score\n",
    "\n",
    "url = \"https://raw.githubusercontent.com/eabarnes1010/course_ml_ats/main/data/fccwx_data_2021.csv\"\n",
    "data = pd.read_csv(url,parse_dates=[\"Date\"],infer_datetime_format=True)\n",
    "data['dayofyear'] = data['Date'].dt.dayofyear\n",
    "data.reindex(index=data.index[::-1])\n",
    "\n",
    "# Labels are the values we want to predict\n",
    "labels = (data[TARGET_VAR] > THRESHOLD_TEMP).astype(int) + (data[TARGET_VAR] > -THRESHOLD_TEMP/2).astype(int)\n",
    "\n",
    "# Remove the labels from the features\n",
    "# axis 1 refers to the columns\n",
    "features = data.drop(TARGET_VAR, axis = 1)\n",
    "\n",
    "# Also remove DewPt and Date\n",
    "features = features.drop('DewPt [C]', axis = 1)\n",
    "features = features.drop('Date', axis = 1)\n",
    "\n",
    "# Saving feature names for later use\n",
    "feature_list = list(features.columns)\n",
    "\n",
    "# Convert to numpy array\n",
    "features = np.array(features)\n",
    "\n",
    "# make the predictions\n",
    "y_pred_test = tree_clf.predict(features)\n",
    "\n",
    "# print the metrics report\n",
    "print(sklearn.metrics.classification_report(labels,y_pred_test))\n",
    "\n",
    "# print final f1 score\n",
    "print('---------------------------------------')\n",
    "print('Testing Macro F1-Score   : ' + str((f1_score(labels, y_pred_test,average='macro')).round(3)))\n",
    "print('Testing Weighted F1-Score: ' + str((f1_score(labels, y_pred_test,average='weighted')).round(3)))\n",
    "\n",
    "# print accuracies\n",
    "print('---------------------------------------')\n",
    "print('TRAINING ACCURACY  : ' + str((accuracy_score(train_labels, y_pred_train)).round(3)))\n",
    "print('VALIDATION ACCURACY: ' + str((accuracy_score(val_labels, y_pred_val)).round(3)))\n",
    "print('TESTING ACCURACY   : ' + str((accuracy_score(labels, y_pred_test)).round(3)))\n",
    "\n",
    "\n",
    "fig, ax1 = plt.subplots()\n",
    "ax2 = ax1.twinx()\n",
    "\n",
    "ax1.plot(features[:,-1],np.array(data[TARGET_VAR]),'.')\n",
    "ax1.set_xlabel('day of year')\n",
    "ax1.set_ylabel(TARGET_VAR)\n",
    "\n",
    "ax2.plot(features[:,-1],y_pred_test,'s',markersize=3,alpha=.3,linewidth=.1,markeredgecolor='r',markerfacecolor='None',)\n",
    "ax2.set_yticks(np.arange(0,len(label_names)))\n",
    "ax2.set_yticklabels(label_names, color='r')\n",
    "ax2.set_ylabel('Random Forest Predicted Class',color='r')\n",
    "\n",
    "plt.title('Testing Predictions - 2021')\n",
    "plt.show()\n",
    "\n",
    "plt.figure()\n",
    "ConfusionMatrixDisplay.from_predictions(labels, y_pred_test, normalize='true')\n",
    "plt.title('Testing Data')\n",
    "plt.show()\n"
   ]
  },
  {
   "cell_type": "code",
   "execution_count": null,
   "metadata": {},
   "outputs": [],
   "source": []
  }
 ],
 "metadata": {
  "colab": {
   "collapsed_sections": [],
   "name": "tree_classifier_christman_hourly_competition.ipynb",
   "provenance": [
    {
     "file_id": "13Xx2bBWJToNi1YEv_q7p67xEwG0J-n8O",
     "timestamp": 1644843366282
    }
   ]
  },
  "kernelspec": {
   "display_name": "Python 3 (ipykernel)",
   "language": "python",
   "name": "python3"
  },
  "language_info": {
   "codemirror_mode": {
    "name": "ipython",
    "version": 3
   },
   "file_extension": ".py",
   "mimetype": "text/x-python",
   "name": "python",
   "nbconvert_exporter": "python",
   "pygments_lexer": "ipython3",
   "version": "3.9.16"
  }
 },
 "nbformat": 4,
 "nbformat_minor": 4
}
